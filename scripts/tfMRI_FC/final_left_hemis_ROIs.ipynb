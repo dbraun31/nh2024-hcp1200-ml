{
 "cells": [
  {
   "cell_type": "markdown",
   "id": "594fcc70-eba3-4a14-a209-aaa526ffad2e",
   "metadata": {},
   "source": [
    "## Calculating the functional connectivity within the left hemisphere\n",
    "##### Data: task-based fMRI (HCP-YA-S1200), emotional processing task\n",
    "##### Contributor: Jiayue Yang\n",
    "##### Time: August 2024"
   ]
  },
  {
   "cell_type": "code",
   "execution_count": 1,
   "id": "59278c82-4002-4e7c-83ca-db277e53cf3e",
   "metadata": {},
   "outputs": [],
   "source": [
    "# import libraries and helper functions\n",
    "import seaborn as sns\n",
    "import matplotlib.pyplot as plt\n",
    "from tfMRI_helper_functions import *"
   ]
  },
  {
   "cell_type": "code",
   "execution_count": 2,
   "id": "3310a94e-0844-46bd-af19-3c3082cfa6aa",
   "metadata": {},
   "outputs": [],
   "source": [
    "# define the parcellation indices that belong to each region\n",
    "# frontal\n",
    "frontal = np.array([12, 13, 14, 15, 16])\n",
    "frontal_names = ['ctx_lh_G_front_inf-Opercular', 'ctx_lh_G_front_inf-Orbital', 'ctx_lh_G_front_inf-Triangul',\n",
    "                 'ctx_lh_G_front_middle', 'ctx_lh_G_front_sup']\n",
    "\n",
    "# anterior cingulate cortex \n",
    "ACC = np.array([6, 7])\n",
    "ACC_names = ['ctx_lh_G_and_S_cingul-Ant', 'ctx_lh_G_and_S_cingul-Mid-Ant']\n",
    "\n",
    "# insula\n",
    "insula = np.array([17, 18, 48, 49, 50])\n",
    "insula_names = ['ctx_lh_G_Ins_lg_and_S_cent_ins', 'ctx_lh_G_insular_short', 'ctx_lh_S_circular_insula_ant', \n",
    "                'ctx_lh_S_circular_insula_inf', 'ctx_lh_S_circular_insula_sup']"
   ]
  },
  {
   "cell_type": "markdown",
   "id": "dc4ea142-228a-4ee2-8f4f-dd31ab1e53c9",
   "metadata": {},
   "source": [
    "### Connectivity between all vertices"
   ]
  },
  {
   "cell_type": "code",
   "execution_count": 3,
   "id": "bb736c5c-8dbd-4306-9f6f-74fbc1ec543a",
   "metadata": {},
   "outputs": [],
   "source": [
    "# concatenate all rois\n",
    "hemis = 'left'\n",
    "parc_atlas = 'Destrieux09_parcellation'\n",
    "\n",
    "# create a new dataframe\n",
    "all_subjects_data = {}"
   ]
  },
  {
   "cell_type": "code",
   "execution_count": 4,
   "id": "4a5229d0-6a47-4507-851c-9c35943efd86",
   "metadata": {},
   "outputs": [],
   "source": [
    "# access subject ids\n",
    "subject_list = pd.read_csv(\n",
    "   \"subjects_647.csv\",\n",
    ")\n",
    "all_ids = list((subject_list['Subject']))\n",
    "\n",
    "# convert integers to string\n",
    "all_ids = [str(i) for i in all_ids]"
   ]
  },
  {
   "cell_type": "code",
   "execution_count": 5,
   "id": "adb02d93-f2c3-4d57-b85a-af0adfedb840",
   "metadata": {},
   "outputs": [],
   "source": [
    "# iterate through all subjects\n",
    "for subject_id in all_ids:\n",
    "    # extract surface data\n",
    "    surface_data = extract_tfMRI(subject_id)\n",
    "    # frontal-ACC\n",
    "    roi_time_series1 = extract_time_series(subject_id, hemis, parc_atlas, frontal, surface_data)\n",
    "    # average across frontal regions\n",
    "    time_series_arrays = list(roi_time_series1.values())\n",
    "    stacked_arrays = np.stack(time_series_arrays, axis=0)\n",
    "    frontal_time_series = np.mean(stacked_arrays, axis=0)\n",
    "\n",
    "    roi_time_series2 = extract_time_series(subject_id, hemis, parc_atlas, ACC, surface_data)\n",
    "    # average across ACC regions\n",
    "    time_series_arrays = list(roi_time_series2.values())\n",
    "    stacked_arrays = np.stack(time_series_arrays, axis=0)\n",
    "    ACC_time_series = np.mean(stacked_arrays, axis=0)\n",
    "    # generate the FC of each subject\n",
    "    FC_1 = calculate_between_roi_FC(frontal_time_series, ACC_time_series)\n",
    "\n",
    "    # frontal-insula\n",
    "    roi_time_series3 = extract_time_series(subject_id, hemis, parc_atlas, insula, surface_data)\n",
    "    # average across insula regions\n",
    "    time_series_arrays = list(roi_time_series3.values())\n",
    "    stacked_arrays = np.stack(time_series_arrays, axis=0)\n",
    "    insula_time_series = np.mean(stacked_arrays, axis=0)\n",
    "    # generate the FC of each subject\n",
    "    FC_2 = calculate_between_roi_FC(frontal_time_series, insula_time_series)\n",
    "\n",
    "    # ACC-insula\n",
    "    FC_3 = calculate_between_roi_FC(ACC_time_series, insula_time_series)\n",
    "    \n",
    "    # simplify the FC matrix\n",
    "    new_data = [FC_1, FC_2, FC_3]\n",
    "    \n",
    "    # concatenate all subject FC into the dictionary (all subjects)\n",
    "    all_subjects_data[subject_id] = new_data\n"
   ]
  },
  {
   "cell_type": "code",
   "execution_count": 6,
   "id": "083a1a17-3055-4d4b-a12d-2aaec7a56741",
   "metadata": {},
   "outputs": [
    {
     "data": {
      "text/html": [
       "<div>\n",
       "<style scoped>\n",
       "    .dataframe tbody tr th:only-of-type {\n",
       "        vertical-align: middle;\n",
       "    }\n",
       "\n",
       "    .dataframe tbody tr th {\n",
       "        vertical-align: top;\n",
       "    }\n",
       "\n",
       "    .dataframe thead th {\n",
       "        text-align: right;\n",
       "    }\n",
       "</style>\n",
       "<table border=\"1\" class=\"dataframe\">\n",
       "  <thead>\n",
       "    <tr style=\"text-align: right;\">\n",
       "      <th></th>\n",
       "      <th>Subjects</th>\n",
       "      <th>frontal-ACC</th>\n",
       "      <th>frontal-insula</th>\n",
       "      <th>ACC-insula</th>\n",
       "    </tr>\n",
       "  </thead>\n",
       "  <tbody>\n",
       "    <tr>\n",
       "      <th>0</th>\n",
       "      <td>877269</td>\n",
       "      <td>0.947870</td>\n",
       "      <td>0.920430</td>\n",
       "      <td>0.897805</td>\n",
       "    </tr>\n",
       "    <tr>\n",
       "      <th>1</th>\n",
       "      <td>878877</td>\n",
       "      <td>0.550691</td>\n",
       "      <td>0.158005</td>\n",
       "      <td>0.143967</td>\n",
       "    </tr>\n",
       "    <tr>\n",
       "      <th>2</th>\n",
       "      <td>880157</td>\n",
       "      <td>0.504856</td>\n",
       "      <td>0.378377</td>\n",
       "      <td>0.372345</td>\n",
       "    </tr>\n",
       "    <tr>\n",
       "      <th>3</th>\n",
       "      <td>882161</td>\n",
       "      <td>0.754626</td>\n",
       "      <td>0.811991</td>\n",
       "      <td>0.796183</td>\n",
       "    </tr>\n",
       "    <tr>\n",
       "      <th>4</th>\n",
       "      <td>885975</td>\n",
       "      <td>0.513672</td>\n",
       "      <td>0.433786</td>\n",
       "      <td>0.613959</td>\n",
       "    </tr>\n",
       "  </tbody>\n",
       "</table>\n",
       "</div>"
      ],
      "text/plain": [
       "  Subjects  frontal-ACC  frontal-insula  ACC-insula\n",
       "0   877269     0.947870        0.920430    0.897805\n",
       "1   878877     0.550691        0.158005    0.143967\n",
       "2   880157     0.504856        0.378377    0.372345\n",
       "3   882161     0.754626        0.811991    0.796183\n",
       "4   885975     0.513672        0.433786    0.613959"
      ]
     },
     "execution_count": 6,
     "metadata": {},
     "output_type": "execute_result"
    }
   ],
   "source": [
    "# Convert the dictionary to a DataFrame\n",
    "df = pd.DataFrame(all_subjects_data).T\n",
    "\n",
    "# Define new column labels\n",
    "new_column_labels = ['frontal-ACC', 'frontal-insula', 'ACC-insula']\n",
    "\n",
    "# Update column labels\n",
    "df.columns = new_column_labels\n",
    "\n",
    "# Add 'Subjects' column with subject names\n",
    "df.insert(0, 'Subjects', df.index)\n",
    "\n",
    "# Optionally reset the index if you want to drop the old index\n",
    "df.reset_index(drop=True, inplace=True)\n",
    "df.head()"
   ]
  },
  {
   "cell_type": "code",
   "execution_count": 7,
   "id": "b118e82b-f214-436d-b3b7-0916147eb22a",
   "metadata": {},
   "outputs": [],
   "source": [
    "# save FC matrix into a csv file\n",
    "df.to_csv('left_hemis_FC_btw_roi.csv', index=False)"
   ]
  }
 ],
 "metadata": {
  "kernelspec": {
   "display_name": "Python 3 (ipykernel)",
   "language": "python",
   "name": "python3"
  },
  "language_info": {
   "codemirror_mode": {
    "name": "ipython",
    "version": 3
   },
   "file_extension": ".py",
   "mimetype": "text/x-python",
   "name": "python",
   "nbconvert_exporter": "python",
   "pygments_lexer": "ipython3",
   "version": "3.10.14"
  }
 },
 "nbformat": 4,
 "nbformat_minor": 5
}
